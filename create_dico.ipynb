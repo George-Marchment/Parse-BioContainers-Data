{
 "cells": [
  {
   "attachments": {},
   "cell_type": "markdown",
   "metadata": {},
   "source": [
    "# Parse BioContainers containers to dico"
   ]
  },
  {
   "cell_type": "markdown",
   "metadata": {},
   "source": [
    "https://github.com/BioContainers/containers"
   ]
  },
  {
   "cell_type": "code",
   "execution_count": 19,
   "metadata": {},
   "outputs": [],
   "source": [
    "import os\n",
    "import glob\n",
    "import re\n",
    "import json"
   ]
  },
  {
   "cell_type": "code",
   "execution_count": 20,
   "metadata": {},
   "outputs": [],
   "source": [
    "download = True"
   ]
  },
  {
   "cell_type": "code",
   "execution_count": 21,
   "metadata": {},
   "outputs": [
    {
     "name": "stderr",
     "output_type": "stream",
     "text": [
      "Clonage dans 'containers'...\n"
     ]
    }
   ],
   "source": [
    "if(download):\n",
    "    os.system(\"git clone https://github.com/BioContainers/containers.git\")"
   ]
  },
  {
   "cell_type": "code",
   "execution_count": 22,
   "metadata": {},
   "outputs": [],
   "source": [
    "dico = {}\n",
    "\n",
    "index = 0\n",
    "for file in glob.glob(f'./containers/**/Dockerfile', recursive=True):\n",
    "    with open(file) as f:\n",
    "        content = f.read()\n",
    "        tool=\"\"\n",
    "        for match in re.finditer(r'software *= *\"([^\\\"\\/]+)\"', content):\n",
    "            tool = match.group(1).lower()\n",
    "        #Create tool entry in the dictionnary -> if not already created\n",
    "        try: \n",
    "            a = dico[tool]\n",
    "        except:\n",
    "            dico[tool] = {\"tags\" : [], \"summary\" : []}\n",
    "\n",
    "        for match in re.finditer(r'tags *= *\"([^\\\"\\/]*)\"', content):\n",
    "            dico[tool][\"tags\"] += match.group(1).split(\",\")\n",
    "\n",
    "        for match in re.finditer(r'summary *= *\"([^\\\"\\/]*)\"', content):\n",
    "            dico[tool][\"summary\"].append(match.group(1))\n",
    "\n",
    "for tool in dico:\n",
    "    for i in range(len(dico[tool][\"tags\"])):\n",
    "        #TODO -> might need to rework the tags in the futur (since the tags themselves are structured)\n",
    "        dico[tool][\"tags\"][i] = dico[tool][\"tags\"][i].strip()\n",
    "    #We remove the doubles\n",
    "    dico[tool][\"tags\"] = list(set(dico[tool][\"tags\"]))\n",
    "    dico[tool][\"summary\"] = list(set(dico[tool][\"summary\"]))"
   ]
  },
  {
   "cell_type": "code",
   "execution_count": 23,
   "metadata": {},
   "outputs": [],
   "source": [
    "with open(\"biocontainers.json\", \"w\") as outfile:\n",
    "    json.dump(dico, outfile, indent = 4)"
   ]
  },
  {
   "cell_type": "code",
   "execution_count": 25,
   "metadata": {},
   "outputs": [],
   "source": [
    "if(download):\n",
    "    os.system(\"rm -rf containers/\")"
   ]
  },
  {
   "cell_type": "code",
   "execution_count": null,
   "metadata": {},
   "outputs": [],
   "source": []
  }
 ],
 "metadata": {
  "kernelspec": {
   "display_name": "Python 3",
   "language": "python",
   "name": "python3"
  },
  "language_info": {
   "codemirror_mode": {
    "name": "ipython",
    "version": 3
   },
   "file_extension": ".py",
   "mimetype": "text/x-python",
   "name": "python",
   "nbconvert_exporter": "python",
   "pygments_lexer": "ipython3",
   "version": "3.10.6"
  },
  "orig_nbformat": 4
 },
 "nbformat": 4,
 "nbformat_minor": 2
}
